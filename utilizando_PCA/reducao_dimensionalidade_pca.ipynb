{
 "cells": [
  {
   "cell_type": "markdown",
   "metadata": {
    "id": "HFepWGB0AIhK"
   },
   "source": [
    "## Redução de dimensionalidade utilizando o algoritmo PCA (Principal Componentes Analysis)"
   ]
  },
  {
   "cell_type": "code",
   "execution_count": 1,
   "metadata": {
    "id": "sM_fZf7c_wfs"
   },
   "outputs": [],
   "source": [
    "import pandas as pd\n",
    "\n",
    "# Conversão de dados categóricos em numéricos:\n",
    "from sklearn.preprocessing import LabelEncoder\n",
    "\n",
    "# Normalização dos dados\n",
    "from sklearn.preprocessing import StandardScaler\n",
    "\n",
    "from sklearn.model_selection import train_test_split\n",
    "\n",
    "from sklearn.decomposition import PCA\n",
    "\n",
    "# Classificador Random Forest\n",
    "from sklearn.ensemble import RandomForestClassifier\n",
    "\n",
    "# Pacote para cálculo da acurácia do modelo de classificação:\n",
    "from sklearn.metrics import accuracy_score"
   ]
  },
  {
   "cell_type": "markdown",
   "metadata": {
    "id": "fYT8bd5VAYVd"
   },
   "source": [
    "**Preparação dos dados**"
   ]
  },
  {
   "cell_type": "markdown",
   "metadata": {
    "id": "f0Y5DwM7IZir"
   },
   "source": [
    "data em: https://www.kaggle.com/datasets/arnabchaki/data-science-salaries-2023<br>\n",
    "dados salarios em data science 2023"
   ]
  },
  {
   "cell_type": "markdown",
   "metadata": {
    "id": "lKoXknUKpLzQ"
   },
   "source": [
    "Descrição das colunas:\n",
    "\n",
    "- work_year: O ano em que o salário foi pago.\n",
    "- experience_level: O nível de experiência no emprego durante o ano.\n",
    "- employment_type: O tipo de emprego para a função.\n",
    "- job_title: O cargo trabalhado durante o ano.\n",
    "- salary: O valor total bruto do salário pago.\n",
    "- salary_currency: A moeda do salário pago como um código de moeda ISO 4217.\n",
    "- salaryinusd: O salário em USD.\n",
    "- employee_residence: País de residência principal do funcionário durante o ano de trabalho, como um código de país ISO 3166.\n",
    "- remote_ratio: A quantidade geral de trabalho feito remotamente.\n",
    "- company_location: O país do escritório principal do empregador ou filial contratante.\n",
    "- company_size: O número médio de pessoas que trabalhavam para a empresa durante o ano.\n",
    "\n"
   ]
  },
  {
   "cell_type": "code",
   "execution_count": 5,
   "metadata": {
    "colab": {
     "base_uri": "https://localhost:8080/",
     "height": 206
    },
    "executionInfo": {
     "elapsed": 598,
     "status": "ok",
     "timestamp": 1711555412881,
     "user": {
      "displayName": "Matheus Matos",
      "userId": "15422268184306171591"
     },
     "user_tz": 180
    },
    "id": "87Fegv9EprWR",
    "outputId": "910a1630-7749-49b5-9182-e7bfc3b04d7b"
   },
   "outputs": [
    {
     "data": {
      "text/html": [
       "<div>\n",
       "<style scoped>\n",
       "    .dataframe tbody tr th:only-of-type {\n",
       "        vertical-align: middle;\n",
       "    }\n",
       "\n",
       "    .dataframe tbody tr th {\n",
       "        vertical-align: top;\n",
       "    }\n",
       "\n",
       "    .dataframe thead th {\n",
       "        text-align: right;\n",
       "    }\n",
       "</style>\n",
       "<table border=\"1\" class=\"dataframe\">\n",
       "  <thead>\n",
       "    <tr style=\"text-align: right;\">\n",
       "      <th></th>\n",
       "      <th>work_year</th>\n",
       "      <th>experience_level</th>\n",
       "      <th>employment_type</th>\n",
       "      <th>job_title</th>\n",
       "      <th>salary</th>\n",
       "      <th>salary_currency</th>\n",
       "      <th>salary_in_usd</th>\n",
       "      <th>employee_residence</th>\n",
       "      <th>remote_ratio</th>\n",
       "      <th>company_location</th>\n",
       "      <th>company_size</th>\n",
       "    </tr>\n",
       "  </thead>\n",
       "  <tbody>\n",
       "    <tr>\n",
       "      <th>0</th>\n",
       "      <td>2023</td>\n",
       "      <td>SE</td>\n",
       "      <td>FT</td>\n",
       "      <td>Principal Data Scientist</td>\n",
       "      <td>80000</td>\n",
       "      <td>EUR</td>\n",
       "      <td>85847</td>\n",
       "      <td>ES</td>\n",
       "      <td>100</td>\n",
       "      <td>ES</td>\n",
       "      <td>L</td>\n",
       "    </tr>\n",
       "    <tr>\n",
       "      <th>1</th>\n",
       "      <td>2023</td>\n",
       "      <td>MI</td>\n",
       "      <td>CT</td>\n",
       "      <td>ML Engineer</td>\n",
       "      <td>30000</td>\n",
       "      <td>USD</td>\n",
       "      <td>30000</td>\n",
       "      <td>US</td>\n",
       "      <td>100</td>\n",
       "      <td>US</td>\n",
       "      <td>S</td>\n",
       "    </tr>\n",
       "    <tr>\n",
       "      <th>2</th>\n",
       "      <td>2023</td>\n",
       "      <td>MI</td>\n",
       "      <td>CT</td>\n",
       "      <td>ML Engineer</td>\n",
       "      <td>25500</td>\n",
       "      <td>USD</td>\n",
       "      <td>25500</td>\n",
       "      <td>US</td>\n",
       "      <td>100</td>\n",
       "      <td>US</td>\n",
       "      <td>S</td>\n",
       "    </tr>\n",
       "    <tr>\n",
       "      <th>3</th>\n",
       "      <td>2023</td>\n",
       "      <td>SE</td>\n",
       "      <td>FT</td>\n",
       "      <td>Data Scientist</td>\n",
       "      <td>175000</td>\n",
       "      <td>USD</td>\n",
       "      <td>175000</td>\n",
       "      <td>CA</td>\n",
       "      <td>100</td>\n",
       "      <td>CA</td>\n",
       "      <td>M</td>\n",
       "    </tr>\n",
       "    <tr>\n",
       "      <th>4</th>\n",
       "      <td>2023</td>\n",
       "      <td>SE</td>\n",
       "      <td>FT</td>\n",
       "      <td>Data Scientist</td>\n",
       "      <td>120000</td>\n",
       "      <td>USD</td>\n",
       "      <td>120000</td>\n",
       "      <td>CA</td>\n",
       "      <td>100</td>\n",
       "      <td>CA</td>\n",
       "      <td>M</td>\n",
       "    </tr>\n",
       "  </tbody>\n",
       "</table>\n",
       "</div>"
      ],
      "text/plain": [
       "   work_year experience_level employment_type                 job_title  \\\n",
       "0       2023               SE              FT  Principal Data Scientist   \n",
       "1       2023               MI              CT               ML Engineer   \n",
       "2       2023               MI              CT               ML Engineer   \n",
       "3       2023               SE              FT            Data Scientist   \n",
       "4       2023               SE              FT            Data Scientist   \n",
       "\n",
       "   salary salary_currency  salary_in_usd employee_residence  remote_ratio  \\\n",
       "0   80000             EUR          85847                 ES           100   \n",
       "1   30000             USD          30000                 US           100   \n",
       "2   25500             USD          25500                 US           100   \n",
       "3  175000             USD         175000                 CA           100   \n",
       "4  120000             USD         120000                 CA           100   \n",
       "\n",
       "  company_location company_size  \n",
       "0               ES            L  \n",
       "1               US            S  \n",
       "2               US            S  \n",
       "3               CA            M  \n",
       "4               CA            M  "
      ]
     },
     "execution_count": 5,
     "metadata": {},
     "output_type": "execute_result"
    }
   ],
   "source": [
    "# Criando um dataframe a partir do dados do arquivo\n",
    "df = pd.read_csv('ds_salaries.csv')\n",
    "df.head()"
   ]
  },
  {
   "cell_type": "code",
   "execution_count": 6,
   "metadata": {
    "colab": {
     "base_uri": "https://localhost:8080/"
    },
    "executionInfo": {
     "elapsed": 681,
     "status": "ok",
     "timestamp": 1711555428215,
     "user": {
      "displayName": "Matheus Matos",
      "userId": "15422268184306171591"
     },
     "user_tz": 180
    },
    "id": "SktrXUEqFbTZ",
    "outputId": "0874c91d-4870-47d9-e7c3-9ccc1aaf6d72"
   },
   "outputs": [
    {
     "name": "stdout",
     "output_type": "stream",
     "text": [
      "<class 'pandas.core.frame.DataFrame'>\n",
      "RangeIndex: 3755 entries, 0 to 3754\n",
      "Data columns (total 11 columns):\n",
      " #   Column              Non-Null Count  Dtype \n",
      "---  ------              --------------  ----- \n",
      " 0   work_year           3755 non-null   int64 \n",
      " 1   experience_level    3755 non-null   object\n",
      " 2   employment_type     3755 non-null   object\n",
      " 3   job_title           3755 non-null   object\n",
      " 4   salary              3755 non-null   int64 \n",
      " 5   salary_currency     3755 non-null   object\n",
      " 6   salary_in_usd       3755 non-null   int64 \n",
      " 7   employee_residence  3755 non-null   object\n",
      " 8   remote_ratio        3755 non-null   int64 \n",
      " 9   company_location    3755 non-null   object\n",
      " 10  company_size        3755 non-null   object\n",
      "dtypes: int64(4), object(7)\n",
      "memory usage: 322.8+ KB\n"
     ]
    }
   ],
   "source": [
    "df.info()"
   ]
  },
  {
   "cell_type": "code",
   "execution_count": 7,
   "metadata": {
    "executionInfo": {
     "elapsed": 723,
     "status": "ok",
     "timestamp": 1711555444443,
     "user": {
      "displayName": "Matheus Matos",
      "userId": "15422268184306171591"
     },
     "user_tz": 180
    },
    "id": "DbYJAjX1b1m3"
   },
   "outputs": [],
   "source": [
    "# Seleção de atributos (Dados de entrada)\n",
    "# Com o método .iloc selecionamos (por índice) todas as linhas\n",
    "X = df.iloc[:, 0:10].values"
   ]
  },
  {
   "cell_type": "code",
   "execution_count": 8,
   "metadata": {
    "colab": {
     "base_uri": "https://localhost:8080/"
    },
    "executionInfo": {
     "elapsed": 2,
     "status": "ok",
     "timestamp": 1711555447736,
     "user": {
      "displayName": "Matheus Matos",
      "userId": "15422268184306171591"
     },
     "user_tz": 180
    },
    "id": "39H27lBUb9iR",
    "outputId": "2b642c58-60be-4274-9935-592dc660f14b"
   },
   "outputs": [
    {
     "data": {
      "text/plain": [
       "array([[2023, 'SE', 'FT', ..., 'ES', 100, 'ES'],\n",
       "       [2023, 'MI', 'CT', ..., 'US', 100, 'US'],\n",
       "       [2023, 'MI', 'CT', ..., 'US', 100, 'US'],\n",
       "       ...,\n",
       "       [2020, 'EN', 'FT', ..., 'US', 100, 'US'],\n",
       "       [2020, 'EN', 'CT', ..., 'US', 100, 'US'],\n",
       "       [2021, 'SE', 'FT', ..., 'IN', 50, 'IN']], dtype=object)"
      ]
     },
     "execution_count": 8,
     "metadata": {},
     "output_type": "execute_result"
    }
   ],
   "source": [
    "X"
   ]
  },
  {
   "cell_type": "code",
   "execution_count": 9,
   "metadata": {
    "executionInfo": {
     "elapsed": 760,
     "status": "ok",
     "timestamp": 1711555477039,
     "user": {
      "displayName": "Matheus Matos",
      "userId": "15422268184306171591"
     },
     "user_tz": 180
    },
    "id": "lAOmr3RVb_kL"
   },
   "outputs": [],
   "source": [
    "# Seleção do target (Dados de saída)\n",
    "# Com o método .iloc selecionamos (por índice) todas as linhas, apenas a coluna 14 (income)\n",
    "y = df.iloc[:, 10].values"
   ]
  },
  {
   "cell_type": "code",
   "execution_count": 10,
   "metadata": {
    "executionInfo": {
     "elapsed": 529,
     "status": "ok",
     "timestamp": 1711555905912,
     "user": {
      "displayName": "Matheus Matos",
      "userId": "15422268184306171591"
     },
     "user_tz": 180
    },
    "id": "vTLq2m2icUJG"
   },
   "outputs": [],
   "source": [
    "# Em Machine Learning, o \"Label Encoding\" é o processo de conversão\n",
    "# de variáveis categóricas em variáveis numéricas (inteiros).\n",
    "\n",
    "# Criaremos variáveis com o nome das colunas e aplicaremos a transformação para cada uma deles com o LabelEncoder():\n",
    "le_experience_level = LabelEncoder()\n",
    "le_employment_type = LabelEncoder()\n",
    "le_job_title = LabelEncoder()\n",
    "le_salary_currency = LabelEncoder()\n",
    "le_employee_residence = LabelEncoder ()\n",
    "le_company_location = LabelEncoder ()\n",
    "le_company_size = LabelEncoder ()"
   ]
  },
  {
   "cell_type": "code",
   "execution_count": 11,
   "metadata": {
    "executionInfo": {
     "elapsed": 657,
     "status": "ok",
     "timestamp": 1711555908787,
     "user": {
      "displayName": "Matheus Matos",
      "userId": "15422268184306171591"
     },
     "user_tz": 180
    },
    "id": "rjXzxAdTcby1"
   },
   "outputs": [],
   "source": [
    "# Usando o método .fit_transform aplicamos os novos valores transformados às colunas:\n",
    "X[:,1] = le_experience_level.fit_transform(X[:,1])\n",
    "X[:,2] = le_employment_type.fit_transform(X[:,2])\n",
    "X[:,3] = le_job_title.fit_transform(X[:,3])\n",
    "X[:,5] = le_salary_currency.fit_transform(X[:,5])\n",
    "X[:,7] = le_employee_residence.fit_transform(X[:,7])\n",
    "X[:,9] = le_company_location.fit_transform(X[:,9])\n"
   ]
  },
  {
   "cell_type": "code",
   "execution_count": 12,
   "metadata": {
    "colab": {
     "base_uri": "https://localhost:8080/"
    },
    "executionInfo": {
     "elapsed": 3,
     "status": "ok",
     "timestamp": 1711555911044,
     "user": {
      "displayName": "Matheus Matos",
      "userId": "15422268184306171591"
     },
     "user_tz": 180
    },
    "id": "uCYYXFrOcfwD",
    "outputId": "9d58c053-b920-481e-f97e-3677afb524dc"
   },
   "outputs": [
    {
     "data": {
      "text/plain": [
       "array([[2023, 3, 2, ..., 26, 100, 25],\n",
       "       [2023, 2, 0, ..., 75, 100, 70],\n",
       "       [2023, 2, 0, ..., 75, 100, 70],\n",
       "       ...,\n",
       "       [2020, 0, 2, ..., 75, 100, 70],\n",
       "       [2020, 0, 0, ..., 75, 100, 70],\n",
       "       [2021, 3, 2, ..., 39, 50, 38]], dtype=object)"
      ]
     },
     "execution_count": 12,
     "metadata": {},
     "output_type": "execute_result"
    }
   ],
   "source": [
    "X"
   ]
  },
  {
   "cell_type": "code",
   "execution_count": 13,
   "metadata": {
    "executionInfo": {
     "elapsed": 423,
     "status": "ok",
     "timestamp": 1711555934045,
     "user": {
      "displayName": "Matheus Matos",
      "userId": "15422268184306171591"
     },
     "user_tz": 180
    },
    "id": "sUHD875ockEN"
   },
   "outputs": [],
   "source": [
    "# Padronização\n",
    "# É o redimensionamento dos recursos para criar um “padrão” garantindo\n",
    "# que os novos dados tenham média zero e desvio padrão igual a 1\n",
    "scaler = StandardScaler()\n",
    "\n",
    "# Salvando os novos dados já padronizados:\n",
    "X = scaler.fit_transform(X)"
   ]
  },
  {
   "cell_type": "code",
   "execution_count": 14,
   "metadata": {
    "colab": {
     "base_uri": "https://localhost:8080/"
    },
    "executionInfo": {
     "elapsed": 568,
     "status": "ok",
     "timestamp": 1711555936634,
     "user": {
      "displayName": "Matheus Matos",
      "userId": "15422268184306171591"
     },
     "user_tz": 180
    },
    "id": "7NnhmIN6cl08",
    "outputId": "60cf2381-7ce9-4176-eb7c-bbcf2afd9f06"
   },
   "outputs": [
    {
     "data": {
      "text/plain": [
       "array([[  0.90599446,   0.58573566,   0.02592668, ...,  -2.08756459,\n",
       "          1.10591825,  -2.12181783],\n",
       "       [  0.90599446,  -0.51784558, -14.95171653, ...,   0.46018613,\n",
       "          1.10591825,   0.45062463],\n",
       "       [  0.90599446,  -0.51784558, -14.95171653, ...,   0.46018613,\n",
       "          1.10591825,   0.45062463],\n",
       "       ...,\n",
       "       [ -3.43330297,  -2.72500806,   0.02592668, ...,   0.46018613,\n",
       "          1.10591825,   0.45062463],\n",
       "       [ -3.43330297,  -2.72500806, -14.95171653, ...,   0.46018613,\n",
       "          1.10591825,   0.45062463],\n",
       "       [ -1.9868705 ,   0.58573566,   0.02592668, ...,  -1.41163073,\n",
       "          0.07674278,  -1.37866779]])"
      ]
     },
     "execution_count": 14,
     "metadata": {},
     "output_type": "execute_result"
    }
   ],
   "source": [
    "X"
   ]
  },
  {
   "cell_type": "code",
   "execution_count": 15,
   "metadata": {
    "executionInfo": {
     "elapsed": 435,
     "status": "ok",
     "timestamp": 1711555946460,
     "user": {
      "displayName": "Matheus Matos",
      "userId": "15422268184306171591"
     },
     "user_tz": 180
    },
    "id": "xiMv6u7rcl0C"
   },
   "outputs": [],
   "source": [
    "# Com o método train_test_split separamos os dados em treino e teste:\n",
    "# X_treino e y_treino: dados para treinamento dos modelos (80% dos dados iniciais)\n",
    "# X_teste e y_teste: dados para teste e avaliação dos modelos (20% dos dados iniciais)\n",
    "\n",
    "X_treino, X_teste, y_treino, y_teste = train_test_split(X, y, test_size=0.20)"
   ]
  },
  {
   "cell_type": "code",
   "execution_count": 16,
   "metadata": {
    "colab": {
     "base_uri": "https://localhost:8080/"
    },
    "executionInfo": {
     "elapsed": 498,
     "status": "ok",
     "timestamp": 1711555949553,
     "user": {
      "displayName": "Matheus Matos",
      "userId": "15422268184306171591"
     },
     "user_tz": 180
    },
    "id": "Q-XS1n2Ycrps",
    "outputId": "e52266be-7fd4-4910-f6d6-a7366d3f37ed"
   },
   "outputs": [
    {
     "data": {
      "text/plain": [
       "((3004, 10), (751, 10))"
      ]
     },
     "execution_count": 16,
     "metadata": {},
     "output_type": "execute_result"
    }
   ],
   "source": [
    "X_treino.shape, X_teste.shape"
   ]
  },
  {
   "cell_type": "markdown",
   "metadata": {
    "id": "Uy2r2s4xcvbn"
   },
   "source": [
    "**Aplicação algoritmo PCA**"
   ]
  },
  {
   "cell_type": "code",
   "execution_count": 17,
   "metadata": {
    "executionInfo": {
     "elapsed": 583,
     "status": "ok",
     "timestamp": 1711555969715,
     "user": {
      "displayName": "Matheus Matos",
      "userId": "15422268184306171591"
     },
     "user_tz": 180
    },
    "id": "BaBv4z0mcro7"
   },
   "outputs": [],
   "source": [
    "# Criamos a variável pca e aplicamos o algoritmo PCA para a redução do número original de colunas para\n",
    "# um número definido \"p\"\n",
    "# O hiperparâmetro \"n_components\" recebe o valor definido de novas colunas (p)\n",
    "p = 6\n",
    "pca = PCA(n_components=p)"
   ]
  },
  {
   "cell_type": "code",
   "execution_count": 18,
   "metadata": {
    "executionInfo": {
     "elapsed": 526,
     "status": "ok",
     "timestamp": 1711555973257,
     "user": {
      "displayName": "Matheus Matos",
      "userId": "15422268184306171591"
     },
     "user_tz": 180
    },
    "id": "XIwA1gSwdFVU"
   },
   "outputs": [],
   "source": [
    "# Definimos novas variáveis de treino e testes (agora com um menor números de colunas)\n",
    "X_treino_pca = pca.fit_transform(X_treino)\n",
    "X_teste_pca = pca.transform(X_teste)"
   ]
  },
  {
   "cell_type": "code",
   "execution_count": 19,
   "metadata": {
    "colab": {
     "base_uri": "https://localhost:8080/"
    },
    "executionInfo": {
     "elapsed": 11,
     "status": "ok",
     "timestamp": 1711555975475,
     "user": {
      "displayName": "Matheus Matos",
      "userId": "15422268184306171591"
     },
     "user_tz": 180
    },
    "id": "WYg4Fb44dIK8",
    "outputId": "14a9705c-58f7-4025-f93e-5df2fd1a0f81"
   },
   "outputs": [
    {
     "data": {
      "text/plain": [
       "((3004, 6), (751, 6))"
      ]
     },
     "execution_count": 19,
     "metadata": {},
     "output_type": "execute_result"
    }
   ],
   "source": [
    "X_treino_pca.shape, X_teste_pca.shape"
   ]
  },
  {
   "cell_type": "code",
   "execution_count": 20,
   "metadata": {
    "colab": {
     "base_uri": "https://localhost:8080/"
    },
    "executionInfo": {
     "elapsed": 556,
     "status": "ok",
     "timestamp": 1711555979517,
     "user": {
      "displayName": "Matheus Matos",
      "userId": "15422268184306171591"
     },
     "user_tz": 180
    },
    "id": "P0fmg7sNdIKD",
    "outputId": "ea42ee70-ab66-4507-9525-666b91ad9458"
   },
   "outputs": [
    {
     "data": {
      "text/plain": [
       "array([0.32866028, 0.12141152, 0.11582568, 0.10459598, 0.09154859,\n",
       "       0.07520181])"
      ]
     },
     "execution_count": 20,
     "metadata": {},
     "output_type": "execute_result"
    }
   ],
   "source": [
    "# O método \"explained_variance_ratio\" permite calcular a\n",
    "# porcentagem de variância dos dados que consegue ser explicada por cada um dos componentes selecionados\n",
    "\n",
    "# Relembrando! :-)\n",
    "# A variância, assim como o desvio padrão, é uma das medidas de dispersão de dados\n",
    "# que mostra o comportamento dos dados de uma amostra em relação a uma medida central (por exemplo, a média)\n",
    "\n",
    "pca.explained_variance_ratio_"
   ]
  },
  {
   "cell_type": "code",
   "execution_count": 21,
   "metadata": {
    "colab": {
     "base_uri": "https://localhost:8080/"
    },
    "executionInfo": {
     "elapsed": 545,
     "status": "ok",
     "timestamp": 1711555983040,
     "user": {
      "displayName": "Matheus Matos",
      "userId": "15422268184306171591"
     },
     "user_tz": 180
    },
    "id": "Bdag5Hj_dOzo",
    "outputId": "e4111838-0492-4e48-ad28-a1169e8ae1ca"
   },
   "outputs": [
    {
     "name": "stdout",
     "output_type": "stream",
     "text": [
      "O modelo PCA com 6 variáveis explica 83.72 % dos dados de entrada\n"
     ]
    }
   ],
   "source": [
    "# Somando os percentuais conseguimos ver o quanto nosso\n",
    "# modelo PCA conseguiu explicar dos dados de entrada\n",
    "total_variancia = pca.explained_variance_ratio_.sum()\n",
    "print(f'O modelo PCA com {p} variáveis explica{100*(total_variancia): .2f} % dos dados de entrada')"
   ]
  },
  {
   "cell_type": "markdown",
   "metadata": {
    "id": "Pdg17RJSdeuL"
   },
   "source": [
    "**Aplicando os novos dados gerados em um modelo de classificação**"
   ]
  },
  {
   "cell_type": "code",
   "execution_count": 22,
   "metadata": {
    "executionInfo": {
     "elapsed": 2,
     "status": "ok",
     "timestamp": 1711555987671,
     "user": {
      "displayName": "Matheus Matos",
      "userId": "15422268184306171591"
     },
     "user_tz": 180
    },
    "id": "tNHLaPrrdh6p"
   },
   "outputs": [],
   "source": [
    "# Instanciando o objeto do classificador\n",
    "modelo_rf = RandomForestClassifier(n_estimators=40, random_state=0)"
   ]
  },
  {
   "cell_type": "code",
   "execution_count": 23,
   "metadata": {
    "colab": {
     "base_uri": "https://localhost:8080/",
     "height": 75
    },
    "executionInfo": {
     "elapsed": 626,
     "status": "ok",
     "timestamp": 1711555991238,
     "user": {
      "displayName": "Matheus Matos",
      "userId": "15422268184306171591"
     },
     "user_tz": 180
    },
    "id": "L3UKazhhdlvc",
    "outputId": "300ce768-1e71-48e2-901e-fb81eefc2c57"
   },
   "outputs": [
    {
     "data": {
      "text/html": [
       "<style>#sk-container-id-1 {color: black;background-color: white;}#sk-container-id-1 pre{padding: 0;}#sk-container-id-1 div.sk-toggleable {background-color: white;}#sk-container-id-1 label.sk-toggleable__label {cursor: pointer;display: block;width: 100%;margin-bottom: 0;padding: 0.3em;box-sizing: border-box;text-align: center;}#sk-container-id-1 label.sk-toggleable__label-arrow:before {content: \"▸\";float: left;margin-right: 0.25em;color: #696969;}#sk-container-id-1 label.sk-toggleable__label-arrow:hover:before {color: black;}#sk-container-id-1 div.sk-estimator:hover label.sk-toggleable__label-arrow:before {color: black;}#sk-container-id-1 div.sk-toggleable__content {max-height: 0;max-width: 0;overflow: hidden;text-align: left;background-color: #f0f8ff;}#sk-container-id-1 div.sk-toggleable__content pre {margin: 0.2em;color: black;border-radius: 0.25em;background-color: #f0f8ff;}#sk-container-id-1 input.sk-toggleable__control:checked~div.sk-toggleable__content {max-height: 200px;max-width: 100%;overflow: auto;}#sk-container-id-1 input.sk-toggleable__control:checked~label.sk-toggleable__label-arrow:before {content: \"▾\";}#sk-container-id-1 div.sk-estimator input.sk-toggleable__control:checked~label.sk-toggleable__label {background-color: #d4ebff;}#sk-container-id-1 div.sk-label input.sk-toggleable__control:checked~label.sk-toggleable__label {background-color: #d4ebff;}#sk-container-id-1 input.sk-hidden--visually {border: 0;clip: rect(1px 1px 1px 1px);clip: rect(1px, 1px, 1px, 1px);height: 1px;margin: -1px;overflow: hidden;padding: 0;position: absolute;width: 1px;}#sk-container-id-1 div.sk-estimator {font-family: monospace;background-color: #f0f8ff;border: 1px dotted black;border-radius: 0.25em;box-sizing: border-box;margin-bottom: 0.5em;}#sk-container-id-1 div.sk-estimator:hover {background-color: #d4ebff;}#sk-container-id-1 div.sk-parallel-item::after {content: \"\";width: 100%;border-bottom: 1px solid gray;flex-grow: 1;}#sk-container-id-1 div.sk-label:hover label.sk-toggleable__label {background-color: #d4ebff;}#sk-container-id-1 div.sk-serial::before {content: \"\";position: absolute;border-left: 1px solid gray;box-sizing: border-box;top: 0;bottom: 0;left: 50%;z-index: 0;}#sk-container-id-1 div.sk-serial {display: flex;flex-direction: column;align-items: center;background-color: white;padding-right: 0.2em;padding-left: 0.2em;position: relative;}#sk-container-id-1 div.sk-item {position: relative;z-index: 1;}#sk-container-id-1 div.sk-parallel {display: flex;align-items: stretch;justify-content: center;background-color: white;position: relative;}#sk-container-id-1 div.sk-item::before, #sk-container-id-1 div.sk-parallel-item::before {content: \"\";position: absolute;border-left: 1px solid gray;box-sizing: border-box;top: 0;bottom: 0;left: 50%;z-index: -1;}#sk-container-id-1 div.sk-parallel-item {display: flex;flex-direction: column;z-index: 1;position: relative;background-color: white;}#sk-container-id-1 div.sk-parallel-item:first-child::after {align-self: flex-end;width: 50%;}#sk-container-id-1 div.sk-parallel-item:last-child::after {align-self: flex-start;width: 50%;}#sk-container-id-1 div.sk-parallel-item:only-child::after {width: 0;}#sk-container-id-1 div.sk-dashed-wrapped {border: 1px dashed gray;margin: 0 0.4em 0.5em 0.4em;box-sizing: border-box;padding-bottom: 0.4em;background-color: white;}#sk-container-id-1 div.sk-label label {font-family: monospace;font-weight: bold;display: inline-block;line-height: 1.2em;}#sk-container-id-1 div.sk-label-container {text-align: center;}#sk-container-id-1 div.sk-container {/* jupyter's `normalize.less` sets `[hidden] { display: none; }` but bootstrap.min.css set `[hidden] { display: none !important; }` so we also need the `!important` here to be able to override the default hidden behavior on the sphinx rendered scikit-learn.org. See: https://github.com/scikit-learn/scikit-learn/issues/21755 */display: inline-block !important;position: relative;}#sk-container-id-1 div.sk-text-repr-fallback {display: none;}</style><div id=\"sk-container-id-1\" class=\"sk-top-container\"><div class=\"sk-text-repr-fallback\"><pre>RandomForestClassifier(n_estimators=40, random_state=0)</pre><b>In a Jupyter environment, please rerun this cell to show the HTML representation or trust the notebook. <br />On GitHub, the HTML representation is unable to render, please try loading this page with nbviewer.org.</b></div><div class=\"sk-container\" hidden><div class=\"sk-item\"><div class=\"sk-estimator sk-toggleable\"><input class=\"sk-toggleable__control sk-hidden--visually\" id=\"sk-estimator-id-1\" type=\"checkbox\" checked><label for=\"sk-estimator-id-1\" class=\"sk-toggleable__label sk-toggleable__label-arrow\">RandomForestClassifier</label><div class=\"sk-toggleable__content\"><pre>RandomForestClassifier(n_estimators=40, random_state=0)</pre></div></div></div></div></div>"
      ],
      "text/plain": [
       "RandomForestClassifier(n_estimators=40, random_state=0)"
      ]
     },
     "execution_count": 23,
     "metadata": {},
     "output_type": "execute_result"
    }
   ],
   "source": [
    "# Usando o método .fit para treinar o modelo\n",
    "\n",
    "# Com base nos dados de treino iniciais:\n",
    "modelo_rf.fit(X_treino, y_treino)\n",
    "\n",
    "# Com base nos dados de treino gerados após a aplicação do algoritmo PCA:\n",
    "# modelo_rf.fit(X_treino_pca, y_treino)"
   ]
  },
  {
   "cell_type": "code",
   "execution_count": 24,
   "metadata": {
    "executionInfo": {
     "elapsed": 597,
     "status": "ok",
     "timestamp": 1711556020895,
     "user": {
      "displayName": "Matheus Matos",
      "userId": "15422268184306171591"
     },
     "user_tz": 180
    },
    "id": "sAK8pkhkdlul"
   },
   "outputs": [],
   "source": [
    "# Usando o método .predict para estimar os resultados\n",
    "\n",
    "# Realizando as previsões com base nos dados de teste iniciais\n",
    "previsoes = modelo_rf.predict(X_teste)\n",
    "\n",
    "# Realizando as previsões com base nos dados de teste após a aplicação do algoritmo PCA\n",
    "#previsoes = modelo_rf.predict(X_teste_pca)"
   ]
  },
  {
   "cell_type": "code",
   "execution_count": 93,
   "metadata": {
    "colab": {
     "base_uri": "https://localhost:8080/"
    },
    "executionInfo": {
     "elapsed": 4,
     "status": "ok",
     "timestamp": 1711556034325,
     "user": {
      "displayName": "Matheus Matos",
      "userId": "15422268184306171591"
     },
     "user_tz": 180
    },
    "id": "uQA9RPEssFQc",
    "outputId": "8b20e899-b6e5-4f6d-eaf0-13acafa7178b"
   },
   "outputs": [
    {
     "data": {
      "text/plain": [
       "array(['M', 'M', 'M', 'M', 'M', 'S', 'M', 'M', 'M', 'M', 'M', 'L', 'M',\n",
       "       'M', 'M', 'S', 'M', 'M', 'M', 'M', 'S', 'M', 'M', 'M', 'M', 'M',\n",
       "       'M', 'M', 'M', 'M', 'M', 'M', 'M', 'M', 'M', 'M', 'M', 'M', 'M',\n",
       "       'M', 'M', 'M', 'M', 'M', 'M', 'M', 'M', 'L', 'M', 'M', 'L', 'M',\n",
       "       'M', 'M', 'M', 'M', 'M', 'M', 'M', 'M', 'M', 'M', 'M', 'M', 'M',\n",
       "       'M', 'M', 'M', 'M', 'M', 'M', 'L', 'M', 'M', 'M', 'M', 'M', 'M',\n",
       "       'L', 'M', 'M', 'M', 'M', 'M', 'M', 'L', 'M', 'M', 'M', 'M', 'M',\n",
       "       'M', 'L', 'L', 'M', 'M', 'M', 'M', 'L', 'M', 'L', 'M', 'M', 'M',\n",
       "       'M', 'M', 'M', 'M', 'L', 'M', 'S', 'S', 'M', 'M', 'M', 'M', 'M',\n",
       "       'M', 'M', 'M', 'M', 'M', 'M', 'M', 'M', 'M', 'L', 'L', 'M', 'M',\n",
       "       'M', 'M', 'M', 'M', 'M', 'M', 'M', 'M', 'M', 'M', 'M', 'M', 'M',\n",
       "       'M', 'M', 'M', 'S', 'M', 'M', 'M', 'M', 'M', 'M', 'L', 'M', 'M',\n",
       "       'M', 'M', 'M', 'M', 'M', 'M', 'M', 'M', 'M', 'M', 'M', 'L', 'L',\n",
       "       'M', 'M', 'M', 'M', 'M', 'M', 'M', 'M', 'M', 'M', 'M', 'M', 'M',\n",
       "       'M', 'M', 'M', 'M', 'M', 'L', 'M', 'M', 'M', 'M', 'M', 'M', 'S',\n",
       "       'M', 'M', 'M', 'M', 'M', 'M', 'M', 'M', 'M', 'M', 'M', 'M', 'M',\n",
       "       'M', 'M', 'M', 'M', 'M', 'M', 'M', 'M', 'M', 'M', 'M', 'L', 'S',\n",
       "       'M', 'M', 'L', 'M', 'M', 'L', 'L', 'M', 'M', 'M', 'M', 'L', 'L',\n",
       "       'M', 'L', 'M', 'M', 'M', 'L', 'M', 'M', 'M', 'M', 'M', 'L', 'M',\n",
       "       'M', 'L', 'M', 'M', 'M', 'M', 'M', 'M', 'M', 'M', 'M', 'M', 'M',\n",
       "       'M', 'M', 'M', 'M', 'M', 'M', 'M', 'M', 'M', 'M', 'M', 'M', 'L',\n",
       "       'M', 'M', 'M', 'M', 'M', 'M', 'M', 'M', 'M', 'M', 'M', 'M', 'L',\n",
       "       'M', 'M', 'M', 'M', 'M', 'M', 'L', 'M', 'M', 'M', 'M', 'M', 'M',\n",
       "       'M', 'M', 'M', 'M', 'M', 'M', 'M', 'M', 'M', 'M', 'M', 'M', 'M',\n",
       "       'S', 'M', 'M', 'M', 'M', 'M', 'M', 'M', 'M', 'M', 'M', 'M', 'M',\n",
       "       'M', 'M', 'M', 'M', 'M', 'M', 'L', 'M', 'M', 'M', 'L', 'L', 'M',\n",
       "       'M', 'M', 'M', 'M', 'L', 'M', 'M', 'M', 'M', 'M', 'M', 'M', 'M',\n",
       "       'M', 'M', 'M', 'M', 'S', 'M', 'M', 'M', 'M', 'L', 'M', 'M', 'M',\n",
       "       'M', 'M', 'M', 'M', 'M', 'M', 'L', 'M', 'M', 'M', 'M', 'M', 'M',\n",
       "       'M', 'M', 'M', 'M', 'M', 'M', 'M', 'M', 'M', 'M', 'L', 'M', 'M',\n",
       "       'M', 'M', 'M', 'M', 'M', 'M', 'M', 'M', 'M', 'M', 'L', 'M', 'M',\n",
       "       'M', 'M', 'M', 'M', 'M', 'M', 'M', 'M', 'M', 'M', 'L', 'M', 'M',\n",
       "       'M', 'L', 'M', 'M', 'L', 'M', 'M', 'M', 'M', 'M', 'M', 'M', 'M',\n",
       "       'M', 'M', 'M', 'M', 'M', 'M', 'M', 'M', 'M', 'M', 'L', 'M', 'M',\n",
       "       'M', 'M', 'M', 'M', 'M', 'M', 'M', 'M', 'M', 'M', 'M', 'M', 'M',\n",
       "       'S', 'L', 'M', 'M', 'M', 'M', 'L', 'M', 'M', 'M', 'M', 'L', 'M',\n",
       "       'M', 'M', 'M', 'M', 'M', 'M', 'M', 'M', 'M', 'M', 'L', 'M', 'M',\n",
       "       'M', 'M', 'M', 'M', 'M', 'M', 'M', 'M', 'M', 'M', 'M', 'L', 'M',\n",
       "       'M', 'M', 'M', 'M', 'M', 'M', 'M', 'M', 'M', 'M', 'M', 'M', 'M',\n",
       "       'M', 'M', 'M', 'M', 'M', 'M', 'M', 'M', 'M', 'M', 'M', 'M', 'L',\n",
       "       'M', 'M', 'L', 'M', 'M', 'M', 'M', 'L', 'M', 'M', 'L', 'M', 'M',\n",
       "       'L', 'M', 'M', 'M', 'M', 'M', 'M', 'M', 'S', 'L', 'M', 'M', 'M',\n",
       "       'M', 'L', 'M', 'M', 'M', 'M', 'M', 'M', 'M', 'M', 'M', 'L', 'M',\n",
       "       'M', 'M', 'M', 'M', 'M', 'L', 'M', 'M', 'L', 'M', 'M', 'M', 'M',\n",
       "       'L', 'M', 'M', 'M', 'M', 'M', 'M', 'M', 'M', 'M', 'M', 'M', 'M',\n",
       "       'M', 'M', 'M', 'M', 'M', 'M', 'M', 'M', 'M', 'M', 'M', 'M', 'M',\n",
       "       'M', 'M', 'M', 'M', 'L', 'M', 'M', 'L', 'M', 'M', 'M', 'L', 'M',\n",
       "       'S', 'L', 'M', 'M', 'L', 'M', 'M', 'M', 'M', 'M', 'M', 'M', 'L',\n",
       "       'M', 'M', 'M', 'M', 'L', 'M', 'M', 'M', 'M', 'M', 'M', 'M', 'M',\n",
       "       'M', 'M', 'L', 'M', 'L', 'M', 'M', 'M', 'M', 'M', 'M', 'M', 'M',\n",
       "       'M', 'M', 'M', 'M', 'M', 'M', 'M', 'M', 'M', 'M', 'M', 'M', 'M',\n",
       "       'M', 'M', 'M', 'M', 'M', 'M', 'M', 'M', 'L', 'S', 'M', 'M', 'M',\n",
       "       'M', 'M', 'M', 'L', 'L', 'M', 'M', 'M', 'M', 'M', 'M', 'M', 'M',\n",
       "       'M', 'M', 'L', 'M', 'L', 'M', 'L', 'M', 'M', 'M', 'M', 'M', 'M',\n",
       "       'M', 'M', 'M', 'M', 'L', 'M', 'M', 'M', 'M', 'M', 'M', 'M', 'M',\n",
       "       'M', 'M', 'M', 'M', 'M', 'M', 'M', 'L', 'M', 'S', 'M', 'L', 'M',\n",
       "       'M', 'L', 'M', 'M', 'L', 'L', 'M', 'M', 'M', 'M', 'M', 'M', 'M',\n",
       "       'M', 'M', 'L', 'M', 'M', 'M', 'S', 'M', 'L', 'M'], dtype=object)"
      ]
     },
     "execution_count": 93,
     "metadata": {},
     "output_type": "execute_result"
    }
   ],
   "source": [
    "previsoes"
   ]
  },
  {
   "cell_type": "code",
   "execution_count": 25,
   "metadata": {
    "colab": {
     "base_uri": "https://localhost:8080/"
    },
    "executionInfo": {
     "elapsed": 549,
     "status": "ok",
     "timestamp": 1711556070728,
     "user": {
      "displayName": "Matheus Matos",
      "userId": "15422268184306171591"
     },
     "user_tz": 180
    },
    "id": "g3GNZNfasQA3",
    "outputId": "d5a56f7c-9feb-4a0b-b310-1a9e1f10cb77"
   },
   "outputs": [
    {
     "data": {
      "text/plain": [
       "array(['M', 'L', 'M', 'M', 'M', 'M', 'L', 'M', 'M', 'M', 'M', 'M', 'M',\n",
       "       'M', 'M', 'L', 'M', 'M', 'L', 'M', 'M', 'M', 'M', 'M', 'M', 'L',\n",
       "       'M', 'M', 'M', 'M', 'M', 'M', 'M', 'M', 'M', 'M', 'M', 'M', 'L',\n",
       "       'M', 'S', 'M', 'M', 'S', 'M', 'M', 'L', 'M', 'M', 'M', 'M', 'M',\n",
       "       'M', 'M', 'L', 'M', 'M', 'M', 'M', 'M', 'M', 'M', 'M', 'M', 'M',\n",
       "       'M', 'M', 'M', 'M', 'L', 'M', 'M', 'M', 'M', 'M', 'M', 'M', 'M',\n",
       "       'M', 'M', 'M', 'M', 'M', 'S', 'M', 'M', 'M', 'M', 'M', 'M', 'M',\n",
       "       'M', 'M', 'M', 'M', 'L', 'M', 'L', 'M', 'L', 'M', 'M', 'M', 'M',\n",
       "       'M', 'M', 'M', 'S', 'M', 'M', 'M', 'M', 'L', 'L', 'M', 'M', 'M',\n",
       "       'M', 'M', 'M', 'M', 'M', 'M', 'M', 'M', 'L', 'S', 'M', 'M', 'S',\n",
       "       'M', 'M', 'M', 'M', 'M', 'M', 'M', 'M', 'M', 'M', 'M', 'M', 'M',\n",
       "       'L', 'M', 'M', 'M', 'M', 'M', 'M', 'M', 'M', 'L', 'M', 'M', 'M',\n",
       "       'M', 'M', 'M', 'M', 'M', 'M', 'M', 'L', 'M', 'M', 'M', 'M', 'M',\n",
       "       'M', 'M', 'L', 'M', 'M', 'M', 'M', 'M', 'M', 'M', 'M', 'M', 'M',\n",
       "       'M', 'M', 'M', 'M', 'M', 'M', 'M', 'M', 'M', 'M', 'L', 'M', 'M',\n",
       "       'M', 'M', 'M', 'M', 'M', 'M', 'M', 'M', 'M', 'M', 'M', 'M', 'L',\n",
       "       'M', 'M', 'M', 'M', 'M', 'M', 'M', 'M', 'M', 'M', 'M', 'M', 'M',\n",
       "       'M', 'M', 'M', 'M', 'M', 'M', 'L', 'M', 'M', 'M', 'M', 'M', 'S',\n",
       "       'S', 'M', 'M', 'L', 'M', 'M', 'M', 'L', 'M', 'M', 'M', 'M', 'M',\n",
       "       'M', 'M', 'M', 'M', 'L', 'M', 'M', 'M', 'M', 'M', 'M', 'M', 'M',\n",
       "       'M', 'M', 'M', 'M', 'M', 'M', 'L', 'M', 'M', 'M', 'M', 'M', 'M',\n",
       "       'M', 'L', 'M', 'M', 'L', 'M', 'M', 'M', 'M', 'S', 'M', 'M', 'M',\n",
       "       'M', 'M', 'M', 'M', 'S', 'L', 'M', 'M', 'M', 'M', 'M', 'M', 'M',\n",
       "       'M', 'M', 'M', 'M', 'M', 'M', 'M', 'M', 'M', 'L', 'M', 'M', 'M',\n",
       "       'M', 'M', 'M', 'M', 'L', 'M', 'M', 'M', 'M', 'M', 'M', 'M', 'L',\n",
       "       'M', 'M', 'L', 'L', 'M', 'M', 'L', 'M', 'M', 'M', 'M', 'M', 'M',\n",
       "       'M', 'M', 'S', 'M', 'L', 'M', 'M', 'M', 'M', 'M', 'M', 'M', 'M',\n",
       "       'M', 'M', 'M', 'M', 'M', 'M', 'M', 'M', 'M', 'M', 'M', 'M', 'M',\n",
       "       'M', 'M', 'M', 'M', 'M', 'M', 'M', 'M', 'L', 'M', 'M', 'M', 'M',\n",
       "       'M', 'M', 'L', 'M', 'M', 'M', 'M', 'L', 'M', 'M', 'M', 'M', 'M',\n",
       "       'M', 'L', 'M', 'M', 'M', 'M', 'M', 'M', 'M', 'M', 'M', 'M', 'M',\n",
       "       'L', 'M', 'M', 'M', 'M', 'L', 'L', 'M', 'M', 'M', 'M', 'L', 'M',\n",
       "       'M', 'M', 'M', 'M', 'M', 'M', 'M', 'L', 'S', 'M', 'M', 'M', 'M',\n",
       "       'M', 'L', 'M', 'M', 'L', 'M', 'M', 'M', 'S', 'M', 'S', 'M', 'M',\n",
       "       'M', 'M', 'M', 'M', 'M', 'L', 'M', 'M', 'M', 'M', 'M', 'M', 'M',\n",
       "       'M', 'M', 'M', 'M', 'M', 'M', 'M', 'M', 'M', 'M', 'M', 'L', 'M',\n",
       "       'M', 'M', 'M', 'L', 'M', 'M', 'M', 'L', 'M', 'M', 'M', 'M', 'M',\n",
       "       'M', 'M', 'M', 'M', 'M', 'M', 'L', 'M', 'M', 'M', 'M', 'M', 'M',\n",
       "       'M', 'M', 'M', 'M', 'M', 'S', 'M', 'M', 'M', 'M', 'M', 'M', 'M',\n",
       "       'M', 'M', 'S', 'M', 'M', 'M', 'M', 'M', 'M', 'S', 'M', 'L', 'M',\n",
       "       'M', 'M', 'L', 'M', 'M', 'M', 'M', 'M', 'M', 'M', 'M', 'L', 'M',\n",
       "       'M', 'M', 'M', 'M', 'L', 'M', 'M', 'M', 'M', 'S', 'M', 'M', 'M',\n",
       "       'L', 'M', 'M', 'L', 'M', 'M', 'M', 'M', 'M', 'M', 'M', 'M', 'M',\n",
       "       'M', 'M', 'M', 'M', 'M', 'M', 'M', 'M', 'M', 'M', 'M', 'L', 'M',\n",
       "       'L', 'M', 'M', 'M', 'M', 'M', 'M', 'L', 'L', 'M', 'M', 'M', 'L',\n",
       "       'M', 'M', 'M', 'M', 'M', 'M', 'M', 'M', 'M', 'M', 'M', 'L', 'M',\n",
       "       'M', 'M', 'M', 'L', 'M', 'M', 'L', 'M', 'M', 'M', 'L', 'M', 'M',\n",
       "       'M', 'S', 'M', 'M', 'M', 'M', 'M', 'M', 'M', 'M', 'M', 'M', 'M',\n",
       "       'M', 'L', 'M', 'M', 'M', 'M', 'L', 'M', 'M', 'M', 'M', 'M', 'M',\n",
       "       'M', 'M', 'M', 'M', 'L', 'M', 'M', 'M', 'M', 'L', 'M', 'M', 'L',\n",
       "       'M', 'M', 'L', 'M', 'M', 'L', 'M', 'M', 'M', 'L', 'M', 'L', 'M',\n",
       "       'M', 'M', 'L', 'M', 'M', 'M', 'L', 'M', 'S', 'L', 'M', 'M', 'M',\n",
       "       'M', 'M', 'M', 'M', 'M', 'M', 'M', 'M', 'L', 'M', 'M', 'M', 'M',\n",
       "       'M', 'M', 'M', 'M', 'M', 'M', 'M', 'M', 'M', 'M', 'M', 'M', 'M',\n",
       "       'S', 'M', 'M', 'M', 'M', 'M', 'M', 'M', 'M', 'M', 'M', 'M', 'M',\n",
       "       'M', 'M', 'M', 'M', 'M', 'M', 'L', 'M', 'S', 'M', 'M', 'M', 'M',\n",
       "       'M', 'M', 'M', 'L', 'M', 'M', 'M', 'S', 'M', 'M', 'M', 'M', 'M',\n",
       "       'M', 'M', 'M', 'M', 'L', 'L', 'M', 'L', 'M', 'M'], dtype=object)"
      ]
     },
     "execution_count": 25,
     "metadata": {},
     "output_type": "execute_result"
    }
   ],
   "source": [
    "y_teste"
   ]
  },
  {
   "cell_type": "code",
   "execution_count": 26,
   "metadata": {
    "colab": {
     "base_uri": "https://localhost:8080/"
    },
    "executionInfo": {
     "elapsed": 533,
     "status": "ok",
     "timestamp": 1711556098522,
     "user": {
      "displayName": "Matheus Matos",
      "userId": "15422268184306171591"
     },
     "user_tz": 180
    },
    "id": "MHScnus1sWqI",
    "outputId": "4256d542-b5a3-4235-d88d-6dd87b6f9745"
   },
   "outputs": [
    {
     "name": "stdout",
     "output_type": "stream",
     "text": [
      "A acurácia do modelo Random Forest é de: 89.35 %\n"
     ]
    }
   ],
   "source": [
    "# Calculando a acurácia do modelo de classificação:\n",
    "acuracia = accuracy_score(y_teste, previsoes)\n",
    "print(f'A acurácia do modelo Random Forest é de:{(100*acuracia): .2f} %')\n",
    "\n",
    "# Sugestão de leitura:\n",
    "# Métricas de avaliação de modelos de aprendizado de máquina:\n",
    "# https://mariofilho.com/as-metricas-mais-populares-para-avaliar-modelos-de-machine-learning/"
   ]
  },
  {
   "cell_type": "code",
   "execution_count": 27,
   "metadata": {},
   "outputs": [
    {
     "name": "stdout",
     "output_type": "stream",
     "text": [
      "Acurácia sem PCA: 89.35%\n",
      "Acurácia com PCA: 89.08%\n"
     ]
    }
   ],
   "source": [
    "from sklearn.ensemble import RandomForestClassifier\n",
    "from sklearn.metrics import accuracy_score\n",
    "\n",
    "# Modelo com dados originais (sem PCA)\n",
    "modelo_original = RandomForestClassifier(n_estimators=40, random_state=0)\n",
    "modelo_original.fit(X_treino, y_treino)\n",
    "previsoes_original = modelo_original.predict(X_teste)\n",
    "acuracia_original = accuracy_score(y_teste, previsoes_original)\n",
    "print(f\"Acurácia sem PCA: {acuracia_original * 100:.2f}%\")\n",
    "\n",
    "# Modelo com dados transformados pelo PCA\n",
    "modelo_pca = RandomForestClassifier(n_estimators=40, random_state=0)\n",
    "modelo_pca.fit(X_treino_pca, y_treino)\n",
    "previsoes_pca = modelo_pca.predict(X_teste_pca)\n",
    "acuracia_pca = accuracy_score(y_teste, previsoes_pca)\n",
    "print(f\"Acurácia com PCA: {acuracia_pca * 100:.2f}%\")"
   ]
  }
 ],
 "metadata": {
  "colab": {
   "authorship_tag": "ABX9TyNP+NubeUCANB1bLq2ROZqE",
   "provenance": []
  },
  "kernelspec": {
   "display_name": "Python 3",
   "name": "python3"
  },
  "language_info": {
   "codemirror_mode": {
    "name": "ipython",
    "version": 3
   },
   "file_extension": ".py",
   "mimetype": "text/x-python",
   "name": "python",
   "nbconvert_exporter": "python",
   "pygments_lexer": "ipython3",
   "version": "3.11.3"
  }
 },
 "nbformat": 4,
 "nbformat_minor": 0
}
